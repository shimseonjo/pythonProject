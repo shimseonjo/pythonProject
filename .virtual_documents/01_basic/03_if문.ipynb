


jumin = input('주민등록번호를 입력하세요 >>>')
if jumin[7] in ['1','3']:
    print('남자')
else: print('여자')


jumin = input('주민등록번호를 입력하세요 >>>')
result = "남자" if jumin[7] in ["1","3"] else "여자"
print(result)





email = input('email을 입력하세요 >>>')
if email.count('@') == 1:
    print(email[:email.find('@')])
else:
    print('@ 형식이 올바르지 않습니다.')


email = input('email을 입력하세요 >>>')
result = email[:email.find('@')] if email.count('@') == 1 else '@ 형식이 올바르지 않습니다.'
print(result)



