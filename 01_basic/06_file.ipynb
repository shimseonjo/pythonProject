{
 "cells": [
  {
   "cell_type": "code",
   "execution_count": 5,
   "id": "d1f34274-3282-4178-ae1d-11481f23739c",
   "metadata": {},
   "outputs": [],
   "source": [
    "f = open('test.txt','w',encoding='utf8')"
   ]
  },
  {
   "cell_type": "code",
   "execution_count": 6,
   "id": "919b8632-1f93-4b80-a996-6d60c029fe45",
   "metadata": {},
   "outputs": [
    {
     "data": {
      "text/plain": [
       "2"
      ]
     },
     "execution_count": 6,
     "metadata": {},
     "output_type": "execute_result"
    }
   ],
   "source": [
    "f.write(\"내용\")"
   ]
  },
  {
   "cell_type": "code",
   "execution_count": 7,
   "id": "44ea5d41-63c9-4a4c-a9e5-ee6c504d0e98",
   "metadata": {},
   "outputs": [],
   "source": [
    "f.close()"
   ]
  },
  {
   "cell_type": "code",
   "execution_count": null,
   "id": "05168f6d-cbb6-48de-a1f1-882ef35f42f3",
   "metadata": {},
   "outputs": [],
   "source": []
  }
 ],
 "metadata": {
  "kernelspec": {
   "display_name": "Python 3 (ipykernel)",
   "language": "python",
   "name": "python3"
  },
  "language_info": {
   "codemirror_mode": {
    "name": "ipython",
    "version": 3
   },
   "file_extension": ".py",
   "mimetype": "text/x-python",
   "name": "python",
   "nbconvert_exporter": "python",
   "pygments_lexer": "ipython3",
   "version": "3.11.7"
  }
 },
 "nbformat": 4,
 "nbformat_minor": 5
}
