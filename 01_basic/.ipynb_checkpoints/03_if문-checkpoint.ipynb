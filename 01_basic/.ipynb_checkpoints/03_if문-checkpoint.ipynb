{
 "cells": [
  {
   "cell_type": "raw",
   "id": "7816eca5-71b9-4561-9184-1bb5602c971c",
   "metadata": {},
   "source": [
    "quiz 1) 주민등록번호를 입력받아서 성별을 출력하세요\n",
    "입력예: 123456-1234567\n",
    "8번째 자리값이 1,3 -> 남자  2,4 -> 여자"
   ]
  },
  {
   "cell_type": "code",
   "execution_count": 3,
   "id": "34f11abc-d998-4c5c-8abb-51ba73972f89",
   "metadata": {},
   "outputs": [
    {
     "name": "stdin",
     "output_type": "stream",
     "text": [
      "주민등록번호를 입력하세요 >>> 001010-3123123\n"
     ]
    },
    {
     "name": "stdout",
     "output_type": "stream",
     "text": [
      "남자\n"
     ]
    }
   ],
   "source": [
    "jumin = input('주민등록번호를 입력하세요 >>>')\n",
    "if jumin[7] in ['1','3']:\n",
    "    print('남자')\n",
    "else: print('여자')"
   ]
  },
  {
   "cell_type": "code",
   "execution_count": 4,
   "id": "d91f74fa-c52e-43dc-8b0d-2c9a2210100a",
   "metadata": {},
   "outputs": [
    {
     "name": "stdin",
     "output_type": "stream",
     "text": [
      "주민등록번호를 입력하세요 >>> 001010-3123123\n"
     ]
    },
    {
     "name": "stdout",
     "output_type": "stream",
     "text": [
      "남자\n"
     ]
    }
   ],
   "source": [
    "jumin = input('주민등록번호를 입력하세요 >>>')\n",
    "result = \"남자\" if jumin[7] in [\"1\",\"3\"] else \"여자\"\n",
    "print(result)"
   ]
  },
  {
   "cell_type": "raw",
   "id": "d06fd86d-bd2e-442a-b811-4acedfafcb79",
   "metadata": {},
   "source": [
    "quiz 2) 이메일 주소를 입력받아서 @이 있는지 여부를 체크하고 \n",
    "있으면 아이디만 출력하고 없으면 @이 없다는 메시지를 출력하세요"
   ]
  },
  {
   "cell_type": "code",
   "execution_count": 6,
   "id": "082f4ce2-e0bb-4613-ad4a-0842d84f31e7",
   "metadata": {},
   "outputs": [
    {
     "name": "stdin",
     "output_type": "stream",
     "text": [
      "email을 입력하세요 >>> hong.co.kr\n"
     ]
    },
    {
     "name": "stdout",
     "output_type": "stream",
     "text": [
      "@이 존재하지 않습니다.\n"
     ]
    }
   ],
   "source": [
    "email = input('email을 입력하세요 >>>')\n",
    "if email.count('@') == 1:\n",
    "    print(email[:email.find('@')])\n",
    "else:\n",
    "    print('@ 형식이 올바르지 않습니다.')"
   ]
  },
  {
   "cell_type": "code",
   "execution_count": 8,
   "id": "6e241e4d-8d8b-4a2e-8ebe-429f1aa707cf",
   "metadata": {},
   "outputs": [
    {
     "name": "stdin",
     "output_type": "stream",
     "text": [
      "email을 입력하세요 >>> hong@gmail.com\n"
     ]
    },
    {
     "name": "stdout",
     "output_type": "stream",
     "text": [
      "hong\n"
     ]
    }
   ],
   "source": [
    "email = input('email을 입력하세요 >>>')\n",
    "result = email[:email.find('@')] if email.count('@') == 1 else '@ 형식이 올바르지 않습니다.'\n",
    "print(result)"
   ]
  },
  {
   "cell_type": "code",
   "execution_count": null,
   "id": "19613b47-4e73-4e05-ba51-693d869d7e3f",
   "metadata": {},
   "outputs": [],
   "source": []
  }
 ],
 "metadata": {
  "kernelspec": {
   "display_name": "Python 3 (ipykernel)",
   "language": "python",
   "name": "python3"
  },
  "language_info": {
   "codemirror_mode": {
    "name": "ipython",
    "version": 3
   },
   "file_extension": ".py",
   "mimetype": "text/x-python",
   "name": "python",
   "nbconvert_exporter": "python",
   "pygments_lexer": "ipython3",
   "version": "3.11.7"
  }
 },
 "nbformat": 4,
 "nbformat_minor": 5
}
