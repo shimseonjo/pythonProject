{
 "cells": [
  {
   "cell_type": "markdown",
   "id": "d0630b5b-fe4f-48db-b6a0-770034ca0464",
   "metadata": {},
   "source": [
    "# 1. 기본 데이터 타입 익히기"
   ]
  },
  {
   "cell_type": "markdown",
   "id": "1e445a2f-6006-4bc8-a736-8d3253cf1312",
   "metadata": {},
   "source": [
    "## 1. 숫자형"
   ]
  },
  {
   "cell_type": "code",
   "execution_count": 3,
   "id": "f8207726-49e5-4a5d-992f-11a8307d4e7b",
   "metadata": {},
   "outputs": [
    {
     "name": "stdout",
     "output_type": "stream",
     "text": [
      "123\n"
     ]
    }
   ],
   "source": [
    "a = 123\n",
    "print(a)"
   ]
  },
  {
   "cell_type": "code",
   "execution_count": 5,
   "id": "bae7b7a9-1034-4560-8718-f2fd7fb8f1a6",
   "metadata": {},
   "outputs": [
    {
     "name": "stdout",
     "output_type": "stream",
     "text": [
      "123\n",
      "345\n"
     ]
    }
   ],
   "source": [
    "b = 345\n",
    "print(a)\n",
    "print(b)"
   ]
  },
  {
   "cell_type": "code",
   "execution_count": 6,
   "id": "03f4a51e-2e9f-4bc6-a310-d1edb11cf71b",
   "metadata": {},
   "outputs": [
    {
     "data": {
      "text/plain": [
       "1.3"
      ]
     },
     "execution_count": 6,
     "metadata": {},
     "output_type": "execute_result"
    }
   ],
   "source": [
    "c = 1.3\n",
    "c"
   ]
  },
  {
   "cell_type": "code",
   "execution_count": 7,
   "id": "1393ee20-1b8f-42ce-af7c-97b01bd6b5fb",
   "metadata": {},
   "outputs": [
    {
     "name": "stdout",
     "output_type": "stream",
     "text": [
      "<class 'int'>\n"
     ]
    }
   ],
   "source": [
    "print(type(a))"
   ]
  },
  {
   "cell_type": "code",
   "execution_count": 8,
   "id": "81efba2c-67c0-4cf0-af0b-829cb6733407",
   "metadata": {},
   "outputs": [
    {
     "data": {
      "text/plain": [
       "int"
      ]
     },
     "execution_count": 8,
     "metadata": {},
     "output_type": "execute_result"
    }
   ],
   "source": [
    "type(b)"
   ]
  },
  {
   "cell_type": "code",
   "execution_count": 9,
   "id": "e5f6c825-19e5-435e-9659-516b0feb0da9",
   "metadata": {},
   "outputs": [
    {
     "name": "stdout",
     "output_type": "stream",
     "text": [
      "<class 'float'>\n"
     ]
    }
   ],
   "source": [
    "print(type(c))"
   ]
  },
  {
   "cell_type": "code",
   "execution_count": 10,
   "id": "babbd354-6339-4478-8fae-94d10ce0361b",
   "metadata": {},
   "outputs": [
    {
     "ename": "SyntaxError",
     "evalue": "invalid digit '8' in octal literal (2500049664.py, line 1)",
     "output_type": "error",
     "traceback": [
      "\u001b[1;36m  Cell \u001b[1;32mIn[10], line 1\u001b[1;36m\u001b[0m\n\u001b[1;33m    d = 0o8\u001b[0m\n\u001b[1;37m          ^\u001b[0m\n\u001b[1;31mSyntaxError\u001b[0m\u001b[1;31m:\u001b[0m invalid digit '8' in octal literal\n"
     ]
    }
   ],
   "source": [
    "d = 0o8\n",
    "d"
   ]
  },
  {
   "cell_type": "code",
   "execution_count": 11,
   "id": "4fd4a6d6-adf5-4d00-8415-424524b9e147",
   "metadata": {},
   "outputs": [
    {
     "data": {
      "text/plain": [
       "127"
      ]
     },
     "execution_count": 11,
     "metadata": {},
     "output_type": "execute_result"
    }
   ],
   "source": [
    "d = 0o177 \n",
    "d"
   ]
  },
  {
   "cell_type": "code",
   "execution_count": 12,
   "id": "7a24c9d3-b8e5-4d4f-92bc-913bcb315e4a",
   "metadata": {},
   "outputs": [
    {
     "data": {
      "text/plain": [
       "int"
      ]
     },
     "execution_count": 12,
     "metadata": {},
     "output_type": "execute_result"
    }
   ],
   "source": [
    "type(d)"
   ]
  },
  {
   "cell_type": "code",
   "execution_count": 13,
   "id": "10d40be2-c56b-444f-a5b1-f922962f5651",
   "metadata": {},
   "outputs": [
    {
     "data": {
      "text/plain": [
       "255"
      ]
     },
     "execution_count": 13,
     "metadata": {},
     "output_type": "execute_result"
    }
   ],
   "source": [
    "e = 0xff\n",
    "e"
   ]
  },
  {
   "cell_type": "code",
   "execution_count": 14,
   "id": "9dce175d-5219-41e6-b939-4b8b3aa2b923",
   "metadata": {},
   "outputs": [
    {
     "name": "stdin",
     "output_type": "stream",
     "text": [
      "숫자를 입력하세요 >> 1111\n"
     ]
    },
    {
     "name": "stdout",
     "output_type": "stream",
     "text": [
      "1111\n",
      "<class 'str'>\n"
     ]
    }
   ],
   "source": [
    "data = input('숫자를 입력하세요 >>')\n",
    "print(data)\n",
    "print(type(data))"
   ]
  },
  {
   "cell_type": "code",
   "execution_count": 15,
   "id": "2395cfef-965c-42b2-8a8e-eb8db8a72f83",
   "metadata": {},
   "outputs": [
    {
     "name": "stdout",
     "output_type": "stream",
     "text": [
      "<class 'int'>\n"
     ]
    }
   ],
   "source": [
    "data = int(data)\n",
    "print(type(data))"
   ]
  },
  {
   "cell_type": "raw",
   "id": "0a3ba553-6389-4923-9b0a-01bfa0045dcc",
   "metadata": {},
   "source": [
    "quiz> 박스당 3개씩 들어가는 과일이 있다. \n",
    "전체 과일의 갯수를 입력받아 몇 박스 몇개가 남는지 출력하세요"
   ]
  },
  {
   "cell_type": "code",
   "execution_count": 16,
   "id": "b322dd4f-6589-4c2f-bca0-c326094d7fce",
   "metadata": {},
   "outputs": [
    {
     "name": "stdin",
     "output_type": "stream",
     "text": [
      "갯수를 입력하세요 >>  8\n"
     ]
    },
    {
     "name": "stdout",
     "output_type": "stream",
     "text": [
      "총  8 개-  2 박스 2 개\n"
     ]
    }
   ],
   "source": [
    "a = 3\n",
    "count = int(input(\"갯수를 입력하세요 >> \"))\n",
    "print('총 ',count,'개- ',count//a,\"박스\",count%a,\"개\")"
   ]
  },
  {
   "cell_type": "markdown",
   "id": "710358d2-2960-4cb9-b75f-7396892c652c",
   "metadata": {},
   "source": [
    "## 2. 문자열 자료형"
   ]
  },
  {
   "cell_type": "code",
   "execution_count": 2,
   "id": "2d4a734f-eeb5-4aaf-a0e5-6a202cfeb56a",
   "metadata": {},
   "outputs": [],
   "source": [
    "food = \"python's favorite food is perl\""
   ]
  },
  {
   "cell_type": "code",
   "execution_count": 6,
   "id": "2410184c-46a7-4ef3-b14d-03c87e4e0ced",
   "metadata": {},
   "outputs": [
    {
     "name": "stdout",
     "output_type": "stream",
     "text": [
      "python's favorite \n",
      "food is perl\n"
     ]
    }
   ],
   "source": [
    "food = \"python's favorite \\nfood is perl\"\n",
    "print(food)"
   ]
  },
  {
   "cell_type": "code",
   "execution_count": 9,
   "id": "63e27402-16b7-4f5d-a729-46207f258286",
   "metadata": {},
   "outputs": [
    {
     "name": "stdout",
     "output_type": "stream",
     "text": [
      "python's favorite food is perl\n",
      "next\n",
      "~~\n"
     ]
    }
   ],
   "source": [
    "food = '''python's favorite food is perl\n",
    "next\n",
    "~~'''\n",
    "print(food)"
   ]
  },
  {
   "cell_type": "code",
   "execution_count": 13,
   "id": "4e3d029e-7019-447b-ae5a-e01a77862fe7",
   "metadata": {},
   "outputs": [
    {
     "data": {
      "text/plain": [
       "'Python is fun!'"
      ]
     },
     "execution_count": 13,
     "metadata": {},
     "output_type": "execute_result"
    }
   ],
   "source": [
    "head = \"Python\"\n",
    "tail = \" is fun!\"\n",
    "head + tail"
   ]
  },
  {
   "cell_type": "code",
   "execution_count": 14,
   "id": "d7d71845-e926-4159-ac0e-3b88bcf0360f",
   "metadata": {},
   "outputs": [
    {
     "data": {
      "text/plain": [
       "'pythonpython'"
      ]
     },
     "execution_count": 14,
     "metadata": {},
     "output_type": "execute_result"
    }
   ],
   "source": [
    "a = \"python\"\n",
    "a * 2"
   ]
  },
  {
   "cell_type": "code",
   "execution_count": 15,
   "id": "4703f208-8215-4dcb-85e5-3fd184342fe5",
   "metadata": {},
   "outputs": [
    {
     "data": {
      "text/plain": [
       "17"
      ]
     },
     "execution_count": 15,
     "metadata": {},
     "output_type": "execute_result"
    }
   ],
   "source": [
    "a = \"Life is too short\"\n",
    "len(a)"
   ]
  },
  {
   "cell_type": "code",
   "execution_count": 16,
   "id": "d1426bc8-ebbc-4217-bfa6-379983d2a813",
   "metadata": {},
   "outputs": [],
   "source": [
    "a = \"Life is too short, You need Python\""
   ]
  },
  {
   "cell_type": "code",
   "execution_count": 18,
   "id": "4a396920-4632-4db4-af7f-86491a087095",
   "metadata": {},
   "outputs": [
    {
     "data": {
      "text/plain": [
       "'e'"
      ]
     },
     "execution_count": 18,
     "metadata": {},
     "output_type": "execute_result"
    }
   ],
   "source": [
    "a[3]"
   ]
  },
  {
   "cell_type": "code",
   "execution_count": 19,
   "id": "58ef5692-afc1-4185-91af-dc9afb634cf2",
   "metadata": {},
   "outputs": [
    {
     "data": {
      "text/plain": [
       "'n'"
      ]
     },
     "execution_count": 19,
     "metadata": {},
     "output_type": "execute_result"
    }
   ],
   "source": [
    "a[-1]"
   ]
  },
  {
   "cell_type": "code",
   "execution_count": 20,
   "id": "b54e4ee5-73bc-4a36-b633-7c4cf145c16d",
   "metadata": {},
   "outputs": [
    {
     "data": {
      "text/plain": [
       "'Life'"
      ]
     },
     "execution_count": 20,
     "metadata": {},
     "output_type": "execute_result"
    }
   ],
   "source": [
    "a[0:4]"
   ]
  },
  {
   "cell_type": "code",
   "execution_count": 22,
   "id": "f2fb0a4e-9b44-4f1d-8615-cf5017616af3",
   "metadata": {},
   "outputs": [
    {
     "data": {
      "text/plain": [
       "'Life is too short, You need Python'"
      ]
     },
     "execution_count": 22,
     "metadata": {},
     "output_type": "execute_result"
    }
   ],
   "source": [
    "a[:]"
   ]
  },
  {
   "cell_type": "code",
   "execution_count": 23,
   "id": "9ba9e03c-83ee-41a8-a9c3-32ffc674fe9e",
   "metadata": {},
   "outputs": [
    {
     "data": {
      "text/plain": [
       "'Life is to'"
      ]
     },
     "execution_count": 23,
     "metadata": {},
     "output_type": "execute_result"
    }
   ],
   "source": [
    "a[:10]"
   ]
  },
  {
   "cell_type": "code",
   "execution_count": 24,
   "id": "ace2f956-9aab-4b40-8d93-c98fdfedb4f8",
   "metadata": {},
   "outputs": [
    {
     "data": {
      "text/plain": [
       "'You need'"
      ]
     },
     "execution_count": 24,
     "metadata": {},
     "output_type": "execute_result"
    }
   ],
   "source": [
    "a[19:-7]"
   ]
  },
  {
   "cell_type": "raw",
   "id": "546073ae-36ce-4c85-baf6-dfb2a11dfe9d",
   "metadata": {},
   "source": [
    "quiz> 이메일 주소를 입력받아서 .com 으로 끝나는지 내용을 출력해 보세요"
   ]
  },
  {
   "cell_type": "code",
   "execution_count": 25,
   "id": "8956ddb3-1f11-47b5-91d7-ca3ea7b30325",
   "metadata": {},
   "outputs": [
    {
     "name": "stdin",
     "output_type": "stream",
     "text": [
      "이메일 주소 입력하세요>>>  hong@gmail.com\n"
     ]
    },
    {
     "name": "stdout",
     "output_type": "stream",
     "text": [
      ".com\n"
     ]
    }
   ],
   "source": [
    "email = input('이메일 주소 입력하세요>>> ')\n",
    "print(email[-4:])"
   ]
  },
  {
   "cell_type": "code",
   "execution_count": 26,
   "id": "f238b2f9-f09d-4d5c-ad18-d2a4017e2099",
   "metadata": {},
   "outputs": [
    {
     "data": {
      "text/plain": [
       "str"
      ]
     },
     "execution_count": 26,
     "metadata": {},
     "output_type": "execute_result"
    }
   ],
   "source": [
    "type(\"I eat apples\")"
   ]
  },
  {
   "cell_type": "code",
   "execution_count": 29,
   "id": "f618592a-15f8-4447-918b-bdcae82896b7",
   "metadata": {},
   "outputs": [
    {
     "data": {
      "text/plain": [
       "'I eat end apples 5'"
      ]
     },
     "execution_count": 29,
     "metadata": {},
     "output_type": "execute_result"
    }
   ],
   "source": [
    "\"I eat {1} apples {0}\".format(5,\"end\")"
   ]
  },
  {
   "cell_type": "code",
   "execution_count": 33,
   "id": "738e50d0-c73b-4651-ba90-09055d7d1ec2",
   "metadata": {},
   "outputs": [
    {
     "data": {
      "text/plain": [
       "'I eat    555     apples end'"
      ]
     },
     "execution_count": 33,
     "metadata": {},
     "output_type": "execute_result"
    }
   ],
   "source": [
    "a = \"I eat {1:^10} apples {0}\"\n",
    "a.format('end',55555)"
   ]
  },
  {
   "cell_type": "code",
   "execution_count": 35,
   "id": "2009bd9d-53bd-45ba-bafe-a111e8c73d72",
   "metadata": {},
   "outputs": [
    {
     "data": {
      "text/plain": [
       "'I eat 111111.00 apples'"
      ]
     },
     "execution_count": 35,
     "metadata": {},
     "output_type": "execute_result"
    }
   ],
   "source": [
    "a = \"I eat {:.2f} apples\"\n",
    "a.format(111111)"
   ]
  },
  {
   "cell_type": "code",
   "execution_count": 36,
   "id": "2915704b-12ea-45d4-82f8-b2fcf8ad5658",
   "metadata": {},
   "outputs": [
    {
     "data": {
      "text/plain": [
       "'I eat 111,111 apples'"
      ]
     },
     "execution_count": 36,
     "metadata": {},
     "output_type": "execute_result"
    }
   ],
   "source": [
    "a = \"I eat {:,} apples\"\n",
    "a.format(111111)"
   ]
  },
  {
   "cell_type": "code",
   "execution_count": 41,
   "id": "b9d2f1ff-e179-4a4e-90c5-4ec9721780e0",
   "metadata": {},
   "outputs": [
    {
     "data": {
      "text/plain": [
       "'3.11.7 | packaged by Anaconda, Inc. | (main, Dec 15 2023, 18:05:47) [MSC v.1916 64 bit (AMD64)]'"
      ]
     },
     "execution_count": 41,
     "metadata": {},
     "output_type": "execute_result"
    }
   ],
   "source": [
    "import sys\n",
    "sys.version"
   ]
  },
  {
   "cell_type": "code",
   "execution_count": 44,
   "id": "79d0da5c-fa66-4c1d-81d3-27ed41c4c6a3",
   "metadata": {},
   "outputs": [
    {
     "data": {
      "text/plain": [
       "'나의 이름은 홍길동입니다. 30,000,000살입니다.'"
      ]
     },
     "execution_count": 44,
     "metadata": {},
     "output_type": "execute_result"
    }
   ],
   "source": [
    "name = \"홍길동\"\n",
    "age = 30000000\n",
    "f'나의 이름은 {name}입니다. {age:,}살입니다.'"
   ]
  },
  {
   "cell_type": "code",
   "execution_count": 45,
   "id": "c4e30a88-9c31-4865-98eb-c47d305c667f",
   "metadata": {},
   "outputs": [
    {
     "data": {
      "text/plain": [
       "2"
      ]
     },
     "execution_count": 45,
     "metadata": {},
     "output_type": "execute_result"
    }
   ],
   "source": [
    "a = \"hobby\"\n",
    "a.count('b')"
   ]
  },
  {
   "cell_type": "code",
   "execution_count": 47,
   "id": "2f91cffe-875e-4dbb-9bda-20dcc8f468e3",
   "metadata": {},
   "outputs": [
    {
     "data": {
      "text/plain": [
       "-1"
      ]
     },
     "execution_count": 47,
     "metadata": {},
     "output_type": "execute_result"
    }
   ],
   "source": [
    "a = \"Python is the best choice\"\n",
    "a.find('k')"
   ]
  },
  {
   "cell_type": "code",
   "execution_count": 48,
   "id": "b4c3a23f-d04f-459b-80b7-7f12c70307c8",
   "metadata": {},
   "outputs": [
    {
     "ename": "ValueError",
     "evalue": "substring not found",
     "output_type": "error",
     "traceback": [
      "\u001b[1;31m---------------------------------------------------------------------------\u001b[0m",
      "\u001b[1;31mValueError\u001b[0m                                Traceback (most recent call last)",
      "Cell \u001b[1;32mIn[48], line 2\u001b[0m\n\u001b[0;32m      1\u001b[0m a \u001b[38;5;241m=\u001b[39m \u001b[38;5;124m\"\u001b[39m\u001b[38;5;124mPython is the best choice\u001b[39m\u001b[38;5;124m\"\u001b[39m\n\u001b[1;32m----> 2\u001b[0m a\u001b[38;5;241m.\u001b[39mindex(\u001b[38;5;124m'\u001b[39m\u001b[38;5;124mk\u001b[39m\u001b[38;5;124m'\u001b[39m)\n",
      "\u001b[1;31mValueError\u001b[0m: substring not found"
     ]
    }
   ],
   "source": [
    "a = \"Python is the best choice\"\n",
    "a.index('k')"
   ]
  },
  {
   "cell_type": "code",
   "execution_count": 49,
   "id": "dc5c57b6-4476-4da3-b370-d5d456c41546",
   "metadata": {},
   "outputs": [
    {
     "data": {
      "text/plain": [
       "'a,b,c,d'"
      ]
     },
     "execution_count": 49,
     "metadata": {},
     "output_type": "execute_result"
    }
   ],
   "source": [
    "\",\".join('abcd')"
   ]
  },
  {
   "cell_type": "code",
   "execution_count": 51,
   "id": "620904ea-5b1d-4223-aa1c-b758e870dd0e",
   "metadata": {},
   "outputs": [
    {
     "data": {
      "text/plain": [
       "'a,b,c,d'"
      ]
     },
     "execution_count": 51,
     "metadata": {},
     "output_type": "execute_result"
    }
   ],
   "source": [
    "\",\".join(['a', 'b', 'c', 'd'])"
   ]
  },
  {
   "cell_type": "code",
   "execution_count": 52,
   "id": "a87c3d0a-c530-4ad9-8990-838af709bb64",
   "metadata": {},
   "outputs": [
    {
     "data": {
      "text/plain": [
       "['a', 'b', 'c', 'd']"
      ]
     },
     "execution_count": 52,
     "metadata": {},
     "output_type": "execute_result"
    }
   ],
   "source": [
    "'a,b,c,d'.split(',')"
   ]
  },
  {
   "cell_type": "markdown",
   "id": "2808c0ac-5a03-46b8-b849-c87fb7491949",
   "metadata": {},
   "source": [
    "## 3. 리스트 자료형"
   ]
  },
  {
   "cell_type": "code",
   "execution_count": 1,
   "id": "7a2fa2ca-abd5-4ca9-8e62-7768a6c9dc02",
   "metadata": {},
   "outputs": [
    {
     "data": {
      "text/plain": [
       "list"
      ]
     },
     "execution_count": 1,
     "metadata": {},
     "output_type": "execute_result"
    }
   ],
   "source": [
    "a = []\n",
    "type(a)"
   ]
  },
  {
   "cell_type": "code",
   "execution_count": 2,
   "id": "36e7b0fc-782c-4757-a416-ffa0fd77f67a",
   "metadata": {},
   "outputs": [],
   "source": [
    "b = [1, 2, 3]\n",
    "c = ['Life', 'is', 'too', 'short']\n",
    "d = [1, 2, 'Life', 'is']\n",
    "e = [1, 2, ['Life', 'is']]"
   ]
  },
  {
   "cell_type": "code",
   "execution_count": 3,
   "id": "a2de6013-4b18-4fb6-a2ec-ec51a4982396",
   "metadata": {},
   "outputs": [
    {
     "data": {
      "text/plain": [
       "list"
      ]
     },
     "execution_count": 3,
     "metadata": {},
     "output_type": "execute_result"
    }
   ],
   "source": [
    "type(e)"
   ]
  },
  {
   "cell_type": "code",
   "execution_count": 4,
   "id": "3825b327-beb2-410f-9222-6c748c6bbeda",
   "metadata": {},
   "outputs": [
    {
     "data": {
      "text/plain": [
       "2"
      ]
     },
     "execution_count": 4,
     "metadata": {},
     "output_type": "execute_result"
    }
   ],
   "source": [
    "e[1]"
   ]
  },
  {
   "cell_type": "code",
   "execution_count": 6,
   "id": "c96837f2-5ec9-4a56-b490-03003a215ffb",
   "metadata": {},
   "outputs": [
    {
     "data": {
      "text/plain": [
       "['Life', 'is']"
      ]
     },
     "execution_count": 6,
     "metadata": {},
     "output_type": "execute_result"
    }
   ],
   "source": [
    "e[2]"
   ]
  },
  {
   "cell_type": "code",
   "execution_count": 7,
   "id": "571871f1-fec6-41bc-999e-79b0c48bbdbc",
   "metadata": {},
   "outputs": [
    {
     "data": {
      "text/plain": [
       "'is'"
      ]
     },
     "execution_count": 7,
     "metadata": {},
     "output_type": "execute_result"
    }
   ],
   "source": [
    "e[2][1]"
   ]
  },
  {
   "cell_type": "code",
   "execution_count": 8,
   "id": "7780cab2-8256-4ae4-89a8-dde2063dba5d",
   "metadata": {},
   "outputs": [
    {
     "data": {
      "text/plain": [
       "5"
      ]
     },
     "execution_count": 8,
     "metadata": {},
     "output_type": "execute_result"
    }
   ],
   "source": [
    "b[1] + b[2]"
   ]
  },
  {
   "cell_type": "code",
   "execution_count": 9,
   "id": "d698a97c-268e-4621-913d-7f777cbe57ac",
   "metadata": {},
   "outputs": [
    {
     "data": {
      "text/plain": [
       "'istoo'"
      ]
     },
     "execution_count": 9,
     "metadata": {},
     "output_type": "execute_result"
    }
   ],
   "source": [
    "c[1] + c[2]"
   ]
  },
  {
   "cell_type": "code",
   "execution_count": 10,
   "id": "762e2dfc-3121-4f66-9457-ced1582345ff",
   "metadata": {},
   "outputs": [
    {
     "ename": "TypeError",
     "evalue": "unsupported operand type(s) for +: 'int' and 'str'",
     "output_type": "error",
     "traceback": [
      "\u001b[1;31m---------------------------------------------------------------------------\u001b[0m",
      "\u001b[1;31mTypeError\u001b[0m                                 Traceback (most recent call last)",
      "Cell \u001b[1;32mIn[10], line 1\u001b[0m\n\u001b[1;32m----> 1\u001b[0m d[\u001b[38;5;241m1\u001b[39m] \u001b[38;5;241m+\u001b[39m d[\u001b[38;5;241m2\u001b[39m]\n",
      "\u001b[1;31mTypeError\u001b[0m: unsupported operand type(s) for +: 'int' and 'str'"
     ]
    }
   ],
   "source": [
    "d[1] + d[2]"
   ]
  },
  {
   "cell_type": "code",
   "execution_count": 11,
   "id": "f4e4c61f-19c3-43b1-9355-b1ba4724394d",
   "metadata": {},
   "outputs": [
    {
     "data": {
      "text/plain": [
       "[1, 2, ['Life', 'is']]"
      ]
     },
     "execution_count": 11,
     "metadata": {},
     "output_type": "execute_result"
    }
   ],
   "source": [
    "e"
   ]
  },
  {
   "cell_type": "code",
   "execution_count": 12,
   "id": "62f6c4a2-654e-4fff-98da-994bfd0295ce",
   "metadata": {},
   "outputs": [
    {
     "data": {
      "text/plain": [
       "3"
      ]
     },
     "execution_count": 12,
     "metadata": {},
     "output_type": "execute_result"
    }
   ],
   "source": [
    "len(e)"
   ]
  },
  {
   "cell_type": "code",
   "execution_count": 13,
   "id": "34798ee0-b533-4e74-8f81-4fe280524192",
   "metadata": {},
   "outputs": [
    {
     "data": {
      "text/plain": [
       "2"
      ]
     },
     "execution_count": 13,
     "metadata": {},
     "output_type": "execute_result"
    }
   ],
   "source": [
    "len(e[2])"
   ]
  },
  {
   "cell_type": "code",
   "execution_count": 15,
   "id": "08b0cc29-42c7-409d-a5d9-3fac534341c2",
   "metadata": {},
   "outputs": [
    {
     "data": {
      "text/plain": [
       "[1, 2, 4]"
      ]
     },
     "execution_count": 15,
     "metadata": {},
     "output_type": "execute_result"
    }
   ],
   "source": [
    "a = [1,2,3]\n",
    "a[2] = 4\n",
    "a"
   ]
  },
  {
   "cell_type": "code",
   "execution_count": 16,
   "id": "7132e2c8-adbc-4e77-a693-ca60f807dbe6",
   "metadata": {},
   "outputs": [],
   "source": [
    "del(a[1])"
   ]
  },
  {
   "cell_type": "code",
   "execution_count": 17,
   "id": "678e8e7b-4963-47ee-91b3-90d2f1564b8e",
   "metadata": {},
   "outputs": [
    {
     "data": {
      "text/plain": [
       "[1, 4]"
      ]
     },
     "execution_count": 17,
     "metadata": {},
     "output_type": "execute_result"
    }
   ],
   "source": [
    "a"
   ]
  },
  {
   "cell_type": "code",
   "execution_count": 18,
   "id": "7b495636-fce0-4cd3-9985-409ad0f690ec",
   "metadata": {},
   "outputs": [],
   "source": [
    "del a[0]"
   ]
  },
  {
   "cell_type": "code",
   "execution_count": 19,
   "id": "d69fd0e6-bcd9-4deb-8a95-83222ea4739a",
   "metadata": {},
   "outputs": [
    {
     "data": {
      "text/plain": [
       "[4]"
      ]
     },
     "execution_count": 19,
     "metadata": {},
     "output_type": "execute_result"
    }
   ],
   "source": [
    "a"
   ]
  },
  {
   "cell_type": "code",
   "execution_count": 20,
   "id": "6acd3ab5-7675-49f5-afba-b57d88c9abce",
   "metadata": {},
   "outputs": [],
   "source": [
    "del(a)"
   ]
  },
  {
   "cell_type": "code",
   "execution_count": 21,
   "id": "6dd4b596-bded-4ac1-9181-253f175f7525",
   "metadata": {},
   "outputs": [
    {
     "ename": "NameError",
     "evalue": "name 'a' is not defined",
     "output_type": "error",
     "traceback": [
      "\u001b[1;31m---------------------------------------------------------------------------\u001b[0m",
      "\u001b[1;31mNameError\u001b[0m                                 Traceback (most recent call last)",
      "Cell \u001b[1;32mIn[21], line 1\u001b[0m\n\u001b[1;32m----> 1\u001b[0m a\n",
      "\u001b[1;31mNameError\u001b[0m: name 'a' is not defined"
     ]
    }
   ],
   "source": [
    "a"
   ]
  },
  {
   "cell_type": "code",
   "execution_count": 22,
   "id": "911fc65e-14c1-459e-b05d-a98bb957e278",
   "metadata": {},
   "outputs": [
    {
     "data": {
      "text/plain": [
       "[1, 2, 'Life', 'is']"
      ]
     },
     "execution_count": 22,
     "metadata": {},
     "output_type": "execute_result"
    }
   ],
   "source": [
    "d"
   ]
  },
  {
   "cell_type": "code",
   "execution_count": 24,
   "id": "8ce45fe2-a730-4c29-b30e-abfa8bf1e857",
   "metadata": {},
   "outputs": [],
   "source": [
    "d.append(4)"
   ]
  },
  {
   "cell_type": "code",
   "execution_count": 25,
   "id": "194d18e4-48d3-4036-9446-e153e2312ab3",
   "metadata": {},
   "outputs": [
    {
     "data": {
      "text/plain": [
       "[1, 2, 'Life', 'is', 4]"
      ]
     },
     "execution_count": 25,
     "metadata": {},
     "output_type": "execute_result"
    }
   ],
   "source": [
    "d"
   ]
  },
  {
   "cell_type": "code",
   "execution_count": 26,
   "id": "30c271fc-306c-405f-b2e6-9fb471a36a49",
   "metadata": {},
   "outputs": [],
   "source": [
    "d.append([1,2,3])"
   ]
  },
  {
   "cell_type": "code",
   "execution_count": 27,
   "id": "1ef3084e-066b-4008-92ff-080589450796",
   "metadata": {},
   "outputs": [
    {
     "data": {
      "text/plain": [
       "[1, 2, 'Life', 'is', 4, [1, 2, 3]]"
      ]
     },
     "execution_count": 27,
     "metadata": {},
     "output_type": "execute_result"
    }
   ],
   "source": [
    "d"
   ]
  },
  {
   "cell_type": "code",
   "execution_count": 28,
   "id": "43e1da20-f250-442d-992c-d68ea0961c4d",
   "metadata": {},
   "outputs": [
    {
     "ename": "TypeError",
     "evalue": "'<' not supported between instances of 'str' and 'int'",
     "output_type": "error",
     "traceback": [
      "\u001b[1;31m---------------------------------------------------------------------------\u001b[0m",
      "\u001b[1;31mTypeError\u001b[0m                                 Traceback (most recent call last)",
      "Cell \u001b[1;32mIn[28], line 1\u001b[0m\n\u001b[1;32m----> 1\u001b[0m d\u001b[38;5;241m.\u001b[39msort()\n",
      "\u001b[1;31mTypeError\u001b[0m: '<' not supported between instances of 'str' and 'int'"
     ]
    }
   ],
   "source": [
    "d.sort()"
   ]
  },
  {
   "cell_type": "code",
   "execution_count": 31,
   "id": "cf0437f2-0c8a-47d2-bcbd-0dae7c52a165",
   "metadata": {},
   "outputs": [],
   "source": [
    "a = [1, 4, 3, 2]"
   ]
  },
  {
   "cell_type": "code",
   "execution_count": 32,
   "id": "22e144a8-8b0e-421f-aab1-65696d1ea3f3",
   "metadata": {},
   "outputs": [],
   "source": [
    "a.sort()"
   ]
  },
  {
   "cell_type": "code",
   "execution_count": 33,
   "id": "d012f910-3ba7-4a55-a684-fc848c30818a",
   "metadata": {},
   "outputs": [
    {
     "data": {
      "text/plain": [
       "[1, 2, 3, 4]"
      ]
     },
     "execution_count": 33,
     "metadata": {},
     "output_type": "execute_result"
    }
   ],
   "source": [
    "a"
   ]
  },
  {
   "cell_type": "code",
   "execution_count": 35,
   "id": "bcef1af7-75a8-4722-b5b5-49fb0dd690b4",
   "metadata": {},
   "outputs": [
    {
     "data": {
      "text/plain": [
       "['c', 'b', 'a']"
      ]
     },
     "execution_count": 35,
     "metadata": {},
     "output_type": "execute_result"
    }
   ],
   "source": [
    "a = ['a', 'c', 'b']\n",
    "a.sort(reverse=True)\n",
    "a"
   ]
  },
  {
   "cell_type": "code",
   "execution_count": 37,
   "id": "6d444d2d-5ca7-49ad-99e4-15a626049fdb",
   "metadata": {},
   "outputs": [
    {
     "data": {
      "text/plain": [
       "[2, 3]"
      ]
     },
     "execution_count": 37,
     "metadata": {},
     "output_type": "execute_result"
    }
   ],
   "source": [
    "a = [1, 2, 3]\n",
    "a.pop(0)\n",
    "a"
   ]
  },
  {
   "cell_type": "markdown",
   "id": "fcae2f17-c663-4451-a4ad-222571441873",
   "metadata": {},
   "source": [
    "## 4. 튜플"
   ]
  },
  {
   "cell_type": "code",
   "execution_count": 38,
   "id": "feab21bf-8087-411b-bd39-69db6f297e60",
   "metadata": {},
   "outputs": [],
   "source": [
    "t1 = ()\n",
    "t2 = (1,)\n",
    "t3 = (1, 2, 3)\n",
    "t4 = 1, 2, 3\n",
    "t5 = ('a', 'b', ('ab', 'cd'))"
   ]
  },
  {
   "cell_type": "code",
   "execution_count": 39,
   "id": "67279893-1933-48c4-84fd-82dc089ace07",
   "metadata": {},
   "outputs": [
    {
     "data": {
      "text/plain": [
       "tuple"
      ]
     },
     "execution_count": 39,
     "metadata": {},
     "output_type": "execute_result"
    }
   ],
   "source": [
    "type(t1)"
   ]
  },
  {
   "cell_type": "code",
   "execution_count": 40,
   "id": "9f5e30ac-d8c7-4dfa-bbd7-4b276ae55f5f",
   "metadata": {},
   "outputs": [
    {
     "data": {
      "text/plain": [
       "tuple"
      ]
     },
     "execution_count": 40,
     "metadata": {},
     "output_type": "execute_result"
    }
   ],
   "source": [
    "type(t4)"
   ]
  },
  {
   "cell_type": "code",
   "execution_count": 41,
   "id": "e32d0187-75f4-4eca-b86e-4b8090573120",
   "metadata": {},
   "outputs": [
    {
     "data": {
      "text/plain": [
       "()"
      ]
     },
     "execution_count": 41,
     "metadata": {},
     "output_type": "execute_result"
    }
   ],
   "source": [
    "tuple()"
   ]
  },
  {
   "cell_type": "code",
   "execution_count": 42,
   "id": "8a3e5f4b-f4bc-440d-ac2d-4e3a5c3a5774",
   "metadata": {},
   "outputs": [
    {
     "data": {
      "text/plain": [
       "2"
      ]
     },
     "execution_count": 42,
     "metadata": {},
     "output_type": "execute_result"
    }
   ],
   "source": [
    "t3[1]"
   ]
  },
  {
   "cell_type": "code",
   "execution_count": 43,
   "id": "340b4e02-52fb-4962-96f0-456d3fc609cd",
   "metadata": {},
   "outputs": [
    {
     "ename": "TypeError",
     "evalue": "'tuple' object does not support item assignment",
     "output_type": "error",
     "traceback": [
      "\u001b[1;31m---------------------------------------------------------------------------\u001b[0m",
      "\u001b[1;31mTypeError\u001b[0m                                 Traceback (most recent call last)",
      "Cell \u001b[1;32mIn[43], line 1\u001b[0m\n\u001b[1;32m----> 1\u001b[0m t3[\u001b[38;5;241m1\u001b[39m]\u001b[38;5;241m=\u001b[39m\u001b[38;5;241m5\u001b[39m\n",
      "\u001b[1;31mTypeError\u001b[0m: 'tuple' object does not support item assignment"
     ]
    }
   ],
   "source": [
    "t3[1] = 5"
   ]
  },
  {
   "cell_type": "code",
   "execution_count": 44,
   "id": "15074bb3-1966-4e83-aa5b-ee49bb1c55dc",
   "metadata": {},
   "outputs": [
    {
     "ename": "TypeError",
     "evalue": "'tuple' object doesn't support item deletion",
     "output_type": "error",
     "traceback": [
      "\u001b[1;31m---------------------------------------------------------------------------\u001b[0m",
      "\u001b[1;31mTypeError\u001b[0m                                 Traceback (most recent call last)",
      "Cell \u001b[1;32mIn[44], line 1\u001b[0m\n\u001b[1;32m----> 1\u001b[0m \u001b[38;5;28;01mdel\u001b[39;00m(t3[\u001b[38;5;241m1\u001b[39m])\n",
      "\u001b[1;31mTypeError\u001b[0m: 'tuple' object doesn't support item deletion"
     ]
    }
   ],
   "source": [
    "del(t3[1])"
   ]
  },
  {
   "cell_type": "code",
   "execution_count": 45,
   "id": "842760e1-44f8-4e8a-b755-be58bca755cd",
   "metadata": {},
   "outputs": [],
   "source": [
    "del(t3)"
   ]
  },
  {
   "cell_type": "code",
   "execution_count": 46,
   "id": "9b860134-37fa-4a87-8286-7a87512b42dc",
   "metadata": {},
   "outputs": [
    {
     "ename": "NameError",
     "evalue": "name 't3' is not defined",
     "output_type": "error",
     "traceback": [
      "\u001b[1;31m---------------------------------------------------------------------------\u001b[0m",
      "\u001b[1;31mNameError\u001b[0m                                 Traceback (most recent call last)",
      "Cell \u001b[1;32mIn[46], line 1\u001b[0m\n\u001b[1;32m----> 1\u001b[0m t3\n",
      "\u001b[1;31mNameError\u001b[0m: name 't3' is not defined"
     ]
    }
   ],
   "source": [
    "t3"
   ]
  },
  {
   "cell_type": "markdown",
   "id": "23c62876-e0a9-445c-85e7-45566bbbe0e6",
   "metadata": {},
   "source": [
    "## 5.딕셔너리"
   ]
  },
  {
   "cell_type": "code",
   "execution_count": 47,
   "id": "d2b00308-b4de-4352-b004-71673cb99148",
   "metadata": {},
   "outputs": [],
   "source": [
    "dic = {'name': 'pey', 'phone': '010-9999-1234', 'birth': '1118'}"
   ]
  },
  {
   "cell_type": "code",
   "execution_count": 48,
   "id": "6e879a15-b327-4acd-a7ed-cb55f10c98f9",
   "metadata": {},
   "outputs": [
    {
     "data": {
      "text/plain": [
       "dict"
      ]
     },
     "execution_count": 48,
     "metadata": {},
     "output_type": "execute_result"
    }
   ],
   "source": [
    "type(dic)"
   ]
  },
  {
   "cell_type": "code",
   "execution_count": 49,
   "id": "8a8cfd2b-28d3-417d-910a-3dd067ed4990",
   "metadata": {},
   "outputs": [
    {
     "data": {
      "text/plain": [
       "{}"
      ]
     },
     "execution_count": 49,
     "metadata": {},
     "output_type": "execute_result"
    }
   ],
   "source": [
    "dict()"
   ]
  },
  {
   "cell_type": "code",
   "execution_count": 50,
   "id": "0bde7472-70aa-4eb5-b524-cacaf6a32de4",
   "metadata": {},
   "outputs": [
    {
     "data": {
      "text/plain": [
       "'pey'"
      ]
     },
     "execution_count": 50,
     "metadata": {},
     "output_type": "execute_result"
    }
   ],
   "source": [
    "dic['name']"
   ]
  },
  {
   "cell_type": "code",
   "execution_count": 51,
   "id": "e64f9b76-5af3-45df-b88c-adbe97a6f1f2",
   "metadata": {},
   "outputs": [],
   "source": [
    "dic['name']='hong'"
   ]
  },
  {
   "cell_type": "code",
   "execution_count": 52,
   "id": "9ac76548-9c5b-415e-8a3c-5aeb27d54106",
   "metadata": {},
   "outputs": [
    {
     "data": {
      "text/plain": [
       "{'name': 'hong', 'phone': '010-9999-1234', 'birth': '1118'}"
      ]
     },
     "execution_count": 52,
     "metadata": {},
     "output_type": "execute_result"
    }
   ],
   "source": [
    "dic"
   ]
  },
  {
   "cell_type": "code",
   "execution_count": 53,
   "id": "63e3eec8-e990-41f4-80aa-dfc519d2fa74",
   "metadata": {},
   "outputs": [],
   "source": [
    "dic['address'] = '부산'"
   ]
  },
  {
   "cell_type": "code",
   "execution_count": 54,
   "id": "c9e86f15-9c6e-48dc-a4bf-06a8c66bb52a",
   "metadata": {},
   "outputs": [
    {
     "data": {
      "text/plain": [
       "{'name': 'hong', 'phone': '010-9999-1234', 'birth': '1118', 'address': '부산'}"
      ]
     },
     "execution_count": 54,
     "metadata": {},
     "output_type": "execute_result"
    }
   ],
   "source": [
    "dic"
   ]
  },
  {
   "cell_type": "code",
   "execution_count": 55,
   "id": "5cf1846f-9cdd-42f0-af06-26b3d90e5ab8",
   "metadata": {},
   "outputs": [],
   "source": [
    "del(dic['address'])"
   ]
  },
  {
   "cell_type": "code",
   "execution_count": 56,
   "id": "2b4cef6f-e4a7-4482-b90e-b0e8ba89b6e0",
   "metadata": {},
   "outputs": [
    {
     "data": {
      "text/plain": [
       "{'name': 'hong', 'phone': '010-9999-1234', 'birth': '1118'}"
      ]
     },
     "execution_count": 56,
     "metadata": {},
     "output_type": "execute_result"
    }
   ],
   "source": [
    "dic"
   ]
  },
  {
   "cell_type": "code",
   "execution_count": 57,
   "id": "561cfb78-a948-4614-a674-2c52ad1cbbe2",
   "metadata": {},
   "outputs": [],
   "source": [
    "dic[(1,2)] = (1,2,3,4)"
   ]
  },
  {
   "cell_type": "code",
   "execution_count": 58,
   "id": "69847f95-b052-464c-a19d-8593f1ee110d",
   "metadata": {},
   "outputs": [
    {
     "data": {
      "text/plain": [
       "{'name': 'hong',\n",
       " 'phone': '010-9999-1234',\n",
       " 'birth': '1118',\n",
       " (1, 2): (1, 2, 3, 4)}"
      ]
     },
     "execution_count": 58,
     "metadata": {},
     "output_type": "execute_result"
    }
   ],
   "source": [
    "dic"
   ]
  },
  {
   "cell_type": "code",
   "execution_count": 59,
   "id": "20d25634-88e1-4223-9e7e-ac35f23adc3c",
   "metadata": {},
   "outputs": [
    {
     "ename": "TypeError",
     "evalue": "unhashable type: 'list'",
     "output_type": "error",
     "traceback": [
      "\u001b[1;31m---------------------------------------------------------------------------\u001b[0m",
      "\u001b[1;31mTypeError\u001b[0m                                 Traceback (most recent call last)",
      "Cell \u001b[1;32mIn[59], line 1\u001b[0m\n\u001b[1;32m----> 1\u001b[0m dic[[\u001b[38;5;241m1\u001b[39m,\u001b[38;5;241m2\u001b[39m]] \u001b[38;5;241m=\u001b[39m [\u001b[38;5;241m1\u001b[39m,\u001b[38;5;241m2\u001b[39m,\u001b[38;5;241m3\u001b[39m,\u001b[38;5;241m4\u001b[39m]\n",
      "\u001b[1;31mTypeError\u001b[0m: unhashable type: 'list'"
     ]
    }
   ],
   "source": [
    "dic[[1,2]] = [1,2,3,4]"
   ]
  },
  {
   "cell_type": "code",
   "execution_count": 60,
   "id": "97b7ad03-c4b5-49ae-8490-ba0dce85b8eb",
   "metadata": {},
   "outputs": [],
   "source": [
    "dic[1]=1"
   ]
  },
  {
   "cell_type": "code",
   "execution_count": 61,
   "id": "8bdc72a3-14cf-4cbd-a55a-2ef29ec7b1f5",
   "metadata": {},
   "outputs": [
    {
     "data": {
      "text/plain": [
       "{'name': 'hong',\n",
       " 'phone': '010-9999-1234',\n",
       " 'birth': '1118',\n",
       " (1, 2): (1, 2, 3, 4),\n",
       " 1: 1}"
      ]
     },
     "execution_count": 61,
     "metadata": {},
     "output_type": "execute_result"
    }
   ],
   "source": [
    "dic"
   ]
  },
  {
   "cell_type": "code",
   "execution_count": 62,
   "id": "70d588bc-f32a-48fc-8c6c-e885ff133d34",
   "metadata": {},
   "outputs": [],
   "source": [
    "dic[1.9]=1"
   ]
  },
  {
   "cell_type": "code",
   "execution_count": 63,
   "id": "eaeaf169-37a8-41f0-aeb0-a9d69c5d19d0",
   "metadata": {},
   "outputs": [
    {
     "data": {
      "text/plain": [
       "{'name': 'hong',\n",
       " 'phone': '010-9999-1234',\n",
       " 'birth': '1118',\n",
       " (1, 2): (1, 2, 3, 4),\n",
       " 1: 1,\n",
       " 1.9: 1}"
      ]
     },
     "execution_count": 63,
     "metadata": {},
     "output_type": "execute_result"
    }
   ],
   "source": [
    "dic"
   ]
  },
  {
   "cell_type": "code",
   "execution_count": 64,
   "id": "2b0242da-52b1-4bb2-ba50-d8343a5b7886",
   "metadata": {},
   "outputs": [
    {
     "data": {
      "text/plain": [
       "dict_keys(['name', 'phone', 'birth', (1, 2), 1, 1.9])"
      ]
     },
     "execution_count": 64,
     "metadata": {},
     "output_type": "execute_result"
    }
   ],
   "source": [
    "dic.keys()"
   ]
  },
  {
   "cell_type": "code",
   "execution_count": 65,
   "id": "5667c076-8ce7-45b5-b6c9-88477aec29c7",
   "metadata": {},
   "outputs": [
    {
     "data": {
      "text/plain": [
       "dict_values(['hong', '010-9999-1234', '1118', (1, 2, 3, 4), 1, 1])"
      ]
     },
     "execution_count": 65,
     "metadata": {},
     "output_type": "execute_result"
    }
   ],
   "source": [
    "dic.values()"
   ]
  },
  {
   "cell_type": "code",
   "execution_count": 66,
   "id": "752b7c84-0dc4-43d1-97dd-b5ec8916f430",
   "metadata": {},
   "outputs": [
    {
     "data": {
      "text/plain": [
       "dict_items([('name', 'hong'), ('phone', '010-9999-1234'), ('birth', '1118'), ((1, 2), (1, 2, 3, 4)), (1, 1), (1.9, 1)])"
      ]
     },
     "execution_count": 66,
     "metadata": {},
     "output_type": "execute_result"
    }
   ],
   "source": [
    "dic.items()"
   ]
  },
  {
   "cell_type": "code",
   "execution_count": 67,
   "id": "64ac5d38-7069-4916-8f5d-7508f0ee6c7b",
   "metadata": {},
   "outputs": [
    {
     "data": {
      "text/plain": [
       "'hong'"
      ]
     },
     "execution_count": 67,
     "metadata": {},
     "output_type": "execute_result"
    }
   ],
   "source": [
    "dic['name']"
   ]
  },
  {
   "cell_type": "code",
   "execution_count": 68,
   "id": "14521111-17a6-4a7c-b9be-a9a8c1597e16",
   "metadata": {},
   "outputs": [
    {
     "ename": "KeyError",
     "evalue": "'name1'",
     "output_type": "error",
     "traceback": [
      "\u001b[1;31m---------------------------------------------------------------------------\u001b[0m",
      "\u001b[1;31mKeyError\u001b[0m                                  Traceback (most recent call last)",
      "Cell \u001b[1;32mIn[68], line 1\u001b[0m\n\u001b[1;32m----> 1\u001b[0m dic[\u001b[38;5;124m'\u001b[39m\u001b[38;5;124mname1\u001b[39m\u001b[38;5;124m'\u001b[39m]\n",
      "\u001b[1;31mKeyError\u001b[0m: 'name1'"
     ]
    }
   ],
   "source": [
    "dic['name1']"
   ]
  },
  {
   "cell_type": "code",
   "execution_count": 70,
   "id": "cec62c59-07b2-4035-a495-015a37397916",
   "metadata": {},
   "outputs": [
    {
     "data": {
      "text/plain": [
       "'hong'"
      ]
     },
     "execution_count": 70,
     "metadata": {},
     "output_type": "execute_result"
    }
   ],
   "source": [
    "dic.get('name')"
   ]
  },
  {
   "cell_type": "code",
   "execution_count": 71,
   "id": "31307143-a1a7-4659-a30b-a1bccd607ce7",
   "metadata": {},
   "outputs": [],
   "source": [
    "dic.get('name1')"
   ]
  },
  {
   "cell_type": "code",
   "execution_count": 74,
   "id": "2f0c74fb-f82a-4e8f-bc9d-4c8036e0b04f",
   "metadata": {},
   "outputs": [
    {
     "data": {
      "text/plain": [
       "True"
      ]
     },
     "execution_count": 74,
     "metadata": {},
     "output_type": "execute_result"
    }
   ],
   "source": [
    "'name' in dic"
   ]
  },
  {
   "cell_type": "code",
   "execution_count": 75,
   "id": "fda2717c-64bb-46c5-8171-38fa34c9345f",
   "metadata": {},
   "outputs": [
    {
     "data": {
      "text/plain": [
       "False"
      ]
     },
     "execution_count": 75,
     "metadata": {},
     "output_type": "execute_result"
    }
   ],
   "source": [
    "'name1' in dic"
   ]
  },
  {
   "cell_type": "code",
   "execution_count": 76,
   "id": "019d4b2b-a355-4657-8a8d-e963285b04c1",
   "metadata": {},
   "outputs": [
    {
     "data": {
      "text/plain": [
       "{1, 2, 3, 5, 7, 8, 9}"
      ]
     },
     "execution_count": 76,
     "metadata": {},
     "output_type": "execute_result"
    }
   ],
   "source": [
    "s = {1,2,5,3,7,5,8,9,8,3}\n",
    "s"
   ]
  },
  {
   "cell_type": "code",
   "execution_count": 77,
   "id": "b4c27d2d-5c33-4820-8402-ab0e4b54909c",
   "metadata": {},
   "outputs": [
    {
     "data": {
      "text/plain": [
       "set"
      ]
     },
     "execution_count": 77,
     "metadata": {},
     "output_type": "execute_result"
    }
   ],
   "source": [
    "type(s)"
   ]
  },
  {
   "cell_type": "code",
   "execution_count": 78,
   "id": "be7e68e2-6e61-4fad-9312-cd3fd752e976",
   "metadata": {},
   "outputs": [
    {
     "data": {
      "text/plain": [
       "False"
      ]
     },
     "execution_count": 78,
     "metadata": {},
     "output_type": "execute_result"
    }
   ],
   "source": [
    "bool('')"
   ]
  },
  {
   "cell_type": "code",
   "execution_count": 79,
   "id": "88428d8c-5921-42b4-bc1d-56bf11bedce6",
   "metadata": {},
   "outputs": [
    {
     "data": {
      "text/plain": [
       "True"
      ]
     },
     "execution_count": 79,
     "metadata": {},
     "output_type": "execute_result"
    }
   ],
   "source": [
    "bool('hhh')"
   ]
  },
  {
   "cell_type": "code",
   "execution_count": 80,
   "id": "a6a8693e-6112-4824-89cb-5375f08c4179",
   "metadata": {},
   "outputs": [],
   "source": [
    "a = [1,2,3]"
   ]
  },
  {
   "cell_type": "code",
   "execution_count": 81,
   "id": "9e70bf9f-78cd-4ec7-b728-d15d543fe6b1",
   "metadata": {},
   "outputs": [
    {
     "data": {
      "text/plain": [
       "2887116990336"
      ]
     },
     "execution_count": 81,
     "metadata": {},
     "output_type": "execute_result"
    }
   ],
   "source": [
    "id(a)"
   ]
  },
  {
   "cell_type": "code",
   "execution_count": 82,
   "id": "a22b688d-e68a-4e07-84ed-413733e8f3e9",
   "metadata": {},
   "outputs": [],
   "source": [
    "b = a"
   ]
  },
  {
   "cell_type": "code",
   "execution_count": 83,
   "id": "15a1e444-80ae-4bf9-9a73-2019b8e14ed1",
   "metadata": {},
   "outputs": [
    {
     "data": {
      "text/plain": [
       "2887116990336"
      ]
     },
     "execution_count": 83,
     "metadata": {},
     "output_type": "execute_result"
    }
   ],
   "source": [
    "id(b)"
   ]
  },
  {
   "cell_type": "code",
   "execution_count": 84,
   "id": "eab97e22-41d7-4c4f-be86-3647b3214627",
   "metadata": {},
   "outputs": [
    {
     "data": {
      "text/plain": [
       "2887113451008"
      ]
     },
     "execution_count": 84,
     "metadata": {},
     "output_type": "execute_result"
    }
   ],
   "source": [
    "c = [2,4,8]\n",
    "id(c)"
   ]
  },
  {
   "cell_type": "code",
   "execution_count": 89,
   "id": "f6a78a75-b141-417e-bc47-fb4f27ca179e",
   "metadata": {},
   "outputs": [],
   "source": [
    "a,b = (1,2)"
   ]
  },
  {
   "cell_type": "code",
   "execution_count": 90,
   "id": "aff18126-447b-4e76-88a8-c27fce6bfa1b",
   "metadata": {},
   "outputs": [
    {
     "data": {
      "text/plain": [
       "1"
      ]
     },
     "execution_count": 90,
     "metadata": {},
     "output_type": "execute_result"
    }
   ],
   "source": [
    "a"
   ]
  },
  {
   "cell_type": "code",
   "execution_count": 91,
   "id": "d923a696-c253-417b-ac9d-fe4334b3cecf",
   "metadata": {},
   "outputs": [
    {
     "data": {
      "text/plain": [
       "2"
      ]
     },
     "execution_count": 91,
     "metadata": {},
     "output_type": "execute_result"
    }
   ],
   "source": [
    "b"
   ]
  },
  {
   "cell_type": "code",
   "execution_count": null,
   "id": "5c712c92-ffb5-4877-99d1-7fd692081b3c",
   "metadata": {},
   "outputs": [],
   "source": []
  },
  {
   "cell_type": "code",
   "execution_count": null,
   "id": "8fddc9a9-1b5b-47c4-8b9e-666e486caa99",
   "metadata": {},
   "outputs": [],
   "source": []
  }
 ],
 "metadata": {
  "kernelspec": {
   "display_name": "Python 3 (ipykernel)",
   "language": "python",
   "name": "python3"
  },
  "language_info": {
   "codemirror_mode": {
    "name": "ipython",
    "version": 3
   },
   "file_extension": ".py",
   "mimetype": "text/x-python",
   "name": "python",
   "nbconvert_exporter": "python",
   "pygments_lexer": "ipython3",
   "version": "3.11.7"
  }
 },
 "nbformat": 4,
 "nbformat_minor": 5
}
